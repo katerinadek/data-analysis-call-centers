{
 "cells": [
  {
   "cell_type": "markdown",
   "metadata": {},
   "source": [
    "Import necessary libraries"
   ]
  },
  {
   "cell_type": "code",
   "execution_count": 1,
   "metadata": {},
   "outputs": [],
   "source": [
    "import pandas as pd\n",
    "import numpy as np\n",
    "from matplotlib import pyplot as plt\n",
    "import seaborn as sns\n",
    "from datetime import datetime as dt\n",
    "from scipy import stats"
   ]
  },
  {
   "cell_type": "markdown",
   "metadata": {},
   "source": [
    "Read CSV file"
   ]
  },
  {
   "cell_type": "code",
   "execution_count": 2,
   "metadata": {},
   "outputs": [
    {
     "data": {
      "text/html": [
       "<div>\n",
       "<style scoped>\n",
       "    .dataframe tbody tr th:only-of-type {\n",
       "        vertical-align: middle;\n",
       "    }\n",
       "\n",
       "    .dataframe tbody tr th {\n",
       "        vertical-align: top;\n",
       "    }\n",
       "\n",
       "    .dataframe thead th {\n",
       "        text-align: right;\n",
       "    }\n",
       "</style>\n",
       "<table border=\"1\" class=\"dataframe\">\n",
       "  <thead>\n",
       "    <tr style=\"text-align: right;\">\n",
       "      <th></th>\n",
       "      <th>id</th>\n",
       "      <th>time_of_call</th>\n",
       "      <th>call_center</th>\n",
       "      <th>successful_call</th>\n",
       "      <th>assistant_enabled</th>\n",
       "      <th>agent_id</th>\n",
       "    </tr>\n",
       "  </thead>\n",
       "  <tbody>\n",
       "    <tr>\n",
       "      <th>0</th>\n",
       "      <td>0</td>\n",
       "      <td>2019-04-04 11:33:51.713444+00:00</td>\n",
       "      <td>Ida</td>\n",
       "      <td>0.0</td>\n",
       "      <td>False</td>\n",
       "      <td>8331</td>\n",
       "    </tr>\n",
       "    <tr>\n",
       "      <th>1</th>\n",
       "      <td>1</td>\n",
       "      <td>2019-04-09 14:27:50.291550+00:00</td>\n",
       "      <td>Ida</td>\n",
       "      <td>0.0</td>\n",
       "      <td>True</td>\n",
       "      <td>8331</td>\n",
       "    </tr>\n",
       "    <tr>\n",
       "      <th>2</th>\n",
       "      <td>2</td>\n",
       "      <td>2019-04-09 17:39:22.662744+00:00</td>\n",
       "      <td>Ida</td>\n",
       "      <td>0.0</td>\n",
       "      <td>True</td>\n",
       "      <td>8331</td>\n",
       "    </tr>\n",
       "    <tr>\n",
       "      <th>3</th>\n",
       "      <td>3</td>\n",
       "      <td>2019-04-11 09:03:31.830776+00:00</td>\n",
       "      <td>Ida</td>\n",
       "      <td>0.0</td>\n",
       "      <td>True</td>\n",
       "      <td>8331</td>\n",
       "    </tr>\n",
       "    <tr>\n",
       "      <th>4</th>\n",
       "      <td>4</td>\n",
       "      <td>2019-04-11 11:49:32.845973+00:00</td>\n",
       "      <td>Ida</td>\n",
       "      <td>0.0</td>\n",
       "      <td>True</td>\n",
       "      <td>8331</td>\n",
       "    </tr>\n",
       "  </tbody>\n",
       "</table>\n",
       "</div>"
      ],
      "text/plain": [
       "   id                      time_of_call call_center  successful_call  \\\n",
       "0   0  2019-04-04 11:33:51.713444+00:00         Ida              0.0   \n",
       "1   1  2019-04-09 14:27:50.291550+00:00         Ida              0.0   \n",
       "2   2  2019-04-09 17:39:22.662744+00:00         Ida              0.0   \n",
       "3   3  2019-04-11 09:03:31.830776+00:00         Ida              0.0   \n",
       "4   4  2019-04-11 11:49:32.845973+00:00         Ida              0.0   \n",
       "\n",
       "   assistant_enabled  agent_id  \n",
       "0              False      8331  \n",
       "1               True      8331  \n",
       "2               True      8331  \n",
       "3               True      8331  \n",
       "4               True      8331  "
      ]
     },
     "execution_count": 2,
     "metadata": {},
     "output_type": "execute_result"
    }
   ],
   "source": [
    "df = pd.read_csv('./callcenters.csv')\n",
    "df.head()"
   ]
  },
  {
   "cell_type": "markdown",
   "metadata": {},
   "source": [
    "Number of calls"
   ]
  },
  {
   "cell_type": "code",
   "execution_count": 3,
   "metadata": {},
   "outputs": [
    {
     "data": {
      "text/plain": [
       "call_center\n",
       "Autonoe      9673\n",
       "Dia          2790\n",
       "Ida         23391\n",
       "Linus       14034\n",
       "Mathilde    18057\n",
       "Name: id, dtype: int64"
      ]
     },
     "execution_count": 3,
     "metadata": {},
     "output_type": "execute_result"
    }
   ],
   "source": [
    "calls = df.groupby('call_center')['id'].count()\n",
    "calls"
   ]
  },
  {
   "cell_type": "markdown",
   "metadata": {},
   "source": [
    "Number of successful calls"
   ]
  },
  {
   "cell_type": "code",
   "execution_count": 4,
   "metadata": {},
   "outputs": [
    {
     "data": {
      "text/plain": [
       "call_center\n",
       "Autonoe      587.0\n",
       "Dia          305.0\n",
       "Ida         1557.0\n",
       "Linus        839.0\n",
       "Mathilde    1163.0\n",
       "Name: successful_call, dtype: float64"
      ]
     },
     "execution_count": 4,
     "metadata": {},
     "output_type": "execute_result"
    }
   ],
   "source": [
    "successful_calls = df.groupby('call_center')['successful_call'].sum()\n",
    "successful_calls"
   ]
  },
  {
   "cell_type": "markdown",
   "metadata": {},
   "source": [
    "Assistant enabled"
   ]
  },
  {
   "cell_type": "code",
   "execution_count": 5,
   "metadata": {},
   "outputs": [
    {
     "data": {
      "text/plain": [
       "call_center\n",
       "Autonoe      8179\n",
       "Dia          1258\n",
       "Ida          5097\n",
       "Linus        7041\n",
       "Mathilde    11105\n",
       "Name: assistant_enabled, dtype: int64"
      ]
     },
     "execution_count": 5,
     "metadata": {},
     "output_type": "execute_result"
    }
   ],
   "source": [
    "assistant_num = df.groupby('call_center')['assistant_enabled'].sum()\n",
    "assistant_num"
   ]
  },
  {
   "cell_type": "markdown",
   "metadata": {},
   "source": [
    "Number of agents"
   ]
  },
  {
   "cell_type": "code",
   "execution_count": 6,
   "metadata": {},
   "outputs": [
    {
     "data": {
      "text/plain": [
       "call_center\n",
       "Autonoe     115\n",
       "Dia          31\n",
       "Ida         194\n",
       "Linus        74\n",
       "Mathilde     89\n",
       "Name: agent_id, dtype: int64"
      ]
     },
     "execution_count": 6,
     "metadata": {},
     "output_type": "execute_result"
    }
   ],
   "source": [
    "agents = df.groupby('call_center')['agent_id'].nunique()\n",
    "agents"
   ]
  },
  {
   "cell_type": "markdown",
   "metadata": {},
   "source": [
    "Call center that used i2x assistant the most"
   ]
  },
  {
   "cell_type": "code",
   "execution_count": 7,
   "metadata": {},
   "outputs": [
    {
     "data": {
      "text/html": [
       "<div>\n",
       "<style scoped>\n",
       "    .dataframe tbody tr th:only-of-type {\n",
       "        vertical-align: middle;\n",
       "    }\n",
       "\n",
       "    .dataframe tbody tr th {\n",
       "        vertical-align: top;\n",
       "    }\n",
       "\n",
       "    .dataframe thead th {\n",
       "        text-align: right;\n",
       "    }\n",
       "</style>\n",
       "<table border=\"1\" class=\"dataframe\">\n",
       "  <thead>\n",
       "    <tr style=\"text-align: right;\">\n",
       "      <th></th>\n",
       "      <th>id</th>\n",
       "      <th>agent_id</th>\n",
       "      <th>assistant_enabled</th>\n",
       "      <th>calls_assistants_rate</th>\n",
       "      <th>successful_call</th>\n",
       "    </tr>\n",
       "    <tr>\n",
       "      <th>call_center</th>\n",
       "      <th></th>\n",
       "      <th></th>\n",
       "      <th></th>\n",
       "      <th></th>\n",
       "      <th></th>\n",
       "    </tr>\n",
       "  </thead>\n",
       "  <tbody>\n",
       "    <tr>\n",
       "      <th>Autonoe</th>\n",
       "      <td>9673</td>\n",
       "      <td>115</td>\n",
       "      <td>8179</td>\n",
       "      <td>0.845549</td>\n",
       "      <td>587.0</td>\n",
       "    </tr>\n",
       "    <tr>\n",
       "      <th>Dia</th>\n",
       "      <td>2790</td>\n",
       "      <td>31</td>\n",
       "      <td>1258</td>\n",
       "      <td>0.450896</td>\n",
       "      <td>305.0</td>\n",
       "    </tr>\n",
       "    <tr>\n",
       "      <th>Ida</th>\n",
       "      <td>23391</td>\n",
       "      <td>194</td>\n",
       "      <td>5097</td>\n",
       "      <td>0.217904</td>\n",
       "      <td>1557.0</td>\n",
       "    </tr>\n",
       "    <tr>\n",
       "      <th>Linus</th>\n",
       "      <td>14034</td>\n",
       "      <td>74</td>\n",
       "      <td>7041</td>\n",
       "      <td>0.501710</td>\n",
       "      <td>839.0</td>\n",
       "    </tr>\n",
       "    <tr>\n",
       "      <th>Mathilde</th>\n",
       "      <td>18057</td>\n",
       "      <td>89</td>\n",
       "      <td>11105</td>\n",
       "      <td>0.614997</td>\n",
       "      <td>1163.0</td>\n",
       "    </tr>\n",
       "  </tbody>\n",
       "</table>\n",
       "</div>"
      ],
      "text/plain": [
       "                id  agent_id  assistant_enabled  calls_assistants_rate  \\\n",
       "call_center                                                              \n",
       "Autonoe       9673       115               8179               0.845549   \n",
       "Dia           2790        31               1258               0.450896   \n",
       "Ida          23391       194               5097               0.217904   \n",
       "Linus        14034        74               7041               0.501710   \n",
       "Mathilde     18057        89              11105               0.614997   \n",
       "\n",
       "             successful_call  \n",
       "call_center                   \n",
       "Autonoe                587.0  \n",
       "Dia                    305.0  \n",
       "Ida                   1557.0  \n",
       "Linus                  839.0  \n",
       "Mathilde              1163.0  "
      ]
     },
     "execution_count": 7,
     "metadata": {},
     "output_type": "execute_result"
    }
   ],
   "source": [
    "calls_df = calls.to_frame()\n",
    "agents_df= agents.to_frame()\n",
    "\n",
    "n1 = calls_df.join(agents_df)\n",
    "assistants_df = assistant_num.to_frame()\n",
    "\n",
    "n2 = n1.join(assistants_df)\n",
    "n2['calls_assistants_rate'] = n2['assistant_enabled']/n2['id']\n",
    "\n",
    "successful_calls_df = successful_calls.to_frame()\n",
    "n3 = n2.join(successful_calls_df)\n",
    "\n",
    "n3\n",
    "\n",
    "#Autonoe used i2x assistant the most."
   ]
  },
  {
   "cell_type": "code",
   "execution_count": 8,
   "metadata": {},
   "outputs": [
    {
     "data": {
      "text/plain": [
       "<AxesSubplot:ylabel='call_center'>"
      ]
     },
     "execution_count": 8,
     "metadata": {},
     "output_type": "execute_result"
    },
    {
     "data": {
      "image/png": "[encoded data removed]",
      "text/plain": [
       "<Figure size 432x288 with 1 Axes>"
      ]
     },
     "metadata": {
      "needs_background": "light"
     },
     "output_type": "display_data"
    }
   ],
   "source": [
    "n3['calls_assistants_rate'].plot(kind='barh')"
   ]
  },
  {
   "cell_type": "markdown",
   "metadata": {},
   "source": [
    "Success rate"
   ]
  },
  {
   "cell_type": "code",
   "execution_count": 9,
   "metadata": {},
   "outputs": [
    {
     "data": {
      "text/plain": [
       "call_center\n",
       "Autonoe     0.060684\n",
       "Dia         0.109319\n",
       "Ida         0.066564\n",
       "Linus       0.059783\n",
       "Mathilde    0.064407\n",
       "dtype: float64"
      ]
     },
     "execution_count": 9,
     "metadata": {},
     "output_type": "execute_result"
    }
   ],
   "source": [
    "success_rate = successful_calls/calls\n",
    "success_rate"
   ]
  },
  {
   "cell_type": "markdown",
   "metadata": {},
   "source": [
    "Split date column"
   ]
  },
  {
   "cell_type": "code",
   "execution_count": 10,
   "metadata": {},
   "outputs": [
    {
     "data": {
      "text/html": [
       "<div>\n",
       "<style scoped>\n",
       "    .dataframe tbody tr th:only-of-type {\n",
       "        vertical-align: middle;\n",
       "    }\n",
       "\n",
       "    .dataframe tbody tr th {\n",
       "        vertical-align: top;\n",
       "    }\n",
       "\n",
       "    .dataframe thead th {\n",
       "        text-align: right;\n",
       "    }\n",
       "</style>\n",
       "<table border=\"1\" class=\"dataframe\">\n",
       "  <thead>\n",
       "    <tr style=\"text-align: right;\">\n",
       "      <th></th>\n",
       "      <th>id</th>\n",
       "      <th>time_of_call</th>\n",
       "      <th>call_center</th>\n",
       "      <th>successful_call</th>\n",
       "      <th>assistant_enabled</th>\n",
       "      <th>agent_id</th>\n",
       "      <th>date</th>\n",
       "      <th>time</th>\n",
       "    </tr>\n",
       "  </thead>\n",
       "  <tbody>\n",
       "    <tr>\n",
       "      <th>0</th>\n",
       "      <td>0</td>\n",
       "      <td>2019-04-04 11:33:51.713444+00:00</td>\n",
       "      <td>Ida</td>\n",
       "      <td>0.0</td>\n",
       "      <td>False</td>\n",
       "      <td>8331</td>\n",
       "      <td>2019-04-04</td>\n",
       "      <td>11:33:51.713444</td>\n",
       "    </tr>\n",
       "    <tr>\n",
       "      <th>1</th>\n",
       "      <td>1</td>\n",
       "      <td>2019-04-09 14:27:50.291550+00:00</td>\n",
       "      <td>Ida</td>\n",
       "      <td>0.0</td>\n",
       "      <td>True</td>\n",
       "      <td>8331</td>\n",
       "      <td>2019-04-09</td>\n",
       "      <td>14:27:50.291550</td>\n",
       "    </tr>\n",
       "    <tr>\n",
       "      <th>2</th>\n",
       "      <td>2</td>\n",
       "      <td>2019-04-09 17:39:22.662744+00:00</td>\n",
       "      <td>Ida</td>\n",
       "      <td>0.0</td>\n",
       "      <td>True</td>\n",
       "      <td>8331</td>\n",
       "      <td>2019-04-09</td>\n",
       "      <td>17:39:22.662744</td>\n",
       "    </tr>\n",
       "    <tr>\n",
       "      <th>3</th>\n",
       "      <td>3</td>\n",
       "      <td>2019-04-11 09:03:31.830776+00:00</td>\n",
       "      <td>Ida</td>\n",
       "      <td>0.0</td>\n",
       "      <td>True</td>\n",
       "      <td>8331</td>\n",
       "      <td>2019-04-11</td>\n",
       "      <td>09:03:31.830776</td>\n",
       "    </tr>\n",
       "    <tr>\n",
       "      <th>4</th>\n",
       "      <td>4</td>\n",
       "      <td>2019-04-11 11:49:32.845973+00:00</td>\n",
       "      <td>Ida</td>\n",
       "      <td>0.0</td>\n",
       "      <td>True</td>\n",
       "      <td>8331</td>\n",
       "      <td>2019-04-11</td>\n",
       "      <td>11:49:32.845973</td>\n",
       "    </tr>\n",
       "  </tbody>\n",
       "</table>\n",
       "</div>"
      ],
      "text/plain": [
       "   id                      time_of_call call_center  successful_call  \\\n",
       "0   0  2019-04-04 11:33:51.713444+00:00         Ida              0.0   \n",
       "1   1  2019-04-09 14:27:50.291550+00:00         Ida              0.0   \n",
       "2   2  2019-04-09 17:39:22.662744+00:00         Ida              0.0   \n",
       "3   3  2019-04-11 09:03:31.830776+00:00         Ida              0.0   \n",
       "4   4  2019-04-11 11:49:32.845973+00:00         Ida              0.0   \n",
       "\n",
       "   assistant_enabled  agent_id        date             time  \n",
       "0              False      8331  2019-04-04  11:33:51.713444  \n",
       "1               True      8331  2019-04-09  14:27:50.291550  \n",
       "2               True      8331  2019-04-09  17:39:22.662744  \n",
       "3               True      8331  2019-04-11  09:03:31.830776  \n",
       "4               True      8331  2019-04-11  11:49:32.845973  "
      ]
     },
     "execution_count": 10,
     "metadata": {},
     "output_type": "execute_result"
    }
   ],
   "source": [
    "df['date'] = pd.to_datetime(df['time_of_call']).dt.date\n",
    "df['time'] = pd.to_datetime(df['time_of_call']).dt.time\n",
    "\n",
    "df.head()"
   ]
  },
  {
   "cell_type": "markdown",
   "metadata": {},
   "source": [
    "Add column 'calls'"
   ]
  },
  {
   "cell_type": "code",
   "execution_count": 11,
   "metadata": {},
   "outputs": [
    {
     "data": {
      "text/html": [
       "<div>\n",
       "<style scoped>\n",
       "    .dataframe tbody tr th:only-of-type {\n",
       "        vertical-align: middle;\n",
       "    }\n",
       "\n",
       "    .dataframe tbody tr th {\n",
       "        vertical-align: top;\n",
       "    }\n",
       "\n",
       "    .dataframe thead th {\n",
       "        text-align: right;\n",
       "    }\n",
       "</style>\n",
       "<table border=\"1\" class=\"dataframe\">\n",
       "  <thead>\n",
       "    <tr style=\"text-align: right;\">\n",
       "      <th></th>\n",
       "      <th>id</th>\n",
       "      <th>time_of_call</th>\n",
       "      <th>call_center</th>\n",
       "      <th>successful_call</th>\n",
       "      <th>assistant_enabled</th>\n",
       "      <th>agent_id</th>\n",
       "      <th>date</th>\n",
       "      <th>time</th>\n",
       "      <th>calls</th>\n",
       "    </tr>\n",
       "  </thead>\n",
       "  <tbody>\n",
       "    <tr>\n",
       "      <th>0</th>\n",
       "      <td>0</td>\n",
       "      <td>2019-04-04 11:33:51.713444+00:00</td>\n",
       "      <td>Ida</td>\n",
       "      <td>0.0</td>\n",
       "      <td>False</td>\n",
       "      <td>8331</td>\n",
       "      <td>2019-04-04</td>\n",
       "      <td>11:33:51.713444</td>\n",
       "      <td>1.0</td>\n",
       "    </tr>\n",
       "    <tr>\n",
       "      <th>1</th>\n",
       "      <td>1</td>\n",
       "      <td>2019-04-09 14:27:50.291550+00:00</td>\n",
       "      <td>Ida</td>\n",
       "      <td>0.0</td>\n",
       "      <td>True</td>\n",
       "      <td>8331</td>\n",
       "      <td>2019-04-09</td>\n",
       "      <td>14:27:50.291550</td>\n",
       "      <td>1.0</td>\n",
       "    </tr>\n",
       "    <tr>\n",
       "      <th>2</th>\n",
       "      <td>2</td>\n",
       "      <td>2019-04-09 17:39:22.662744+00:00</td>\n",
       "      <td>Ida</td>\n",
       "      <td>0.0</td>\n",
       "      <td>True</td>\n",
       "      <td>8331</td>\n",
       "      <td>2019-04-09</td>\n",
       "      <td>17:39:22.662744</td>\n",
       "      <td>1.0</td>\n",
       "    </tr>\n",
       "    <tr>\n",
       "      <th>3</th>\n",
       "      <td>3</td>\n",
       "      <td>2019-04-11 09:03:31.830776+00:00</td>\n",
       "      <td>Ida</td>\n",
       "      <td>0.0</td>\n",
       "      <td>True</td>\n",
       "      <td>8331</td>\n",
       "      <td>2019-04-11</td>\n",
       "      <td>09:03:31.830776</td>\n",
       "      <td>1.0</td>\n",
       "    </tr>\n",
       "    <tr>\n",
       "      <th>4</th>\n",
       "      <td>4</td>\n",
       "      <td>2019-04-11 11:49:32.845973+00:00</td>\n",
       "      <td>Ida</td>\n",
       "      <td>0.0</td>\n",
       "      <td>True</td>\n",
       "      <td>8331</td>\n",
       "      <td>2019-04-11</td>\n",
       "      <td>11:49:32.845973</td>\n",
       "      <td>1.0</td>\n",
       "    </tr>\n",
       "  </tbody>\n",
       "</table>\n",
       "</div>"
      ],
      "text/plain": [
       "   id                      time_of_call call_center  successful_call  \\\n",
       "0   0  2019-04-04 11:33:51.713444+00:00         Ida              0.0   \n",
       "1   1  2019-04-09 14:27:50.291550+00:00         Ida              0.0   \n",
       "2   2  2019-04-09 17:39:22.662744+00:00         Ida              0.0   \n",
       "3   3  2019-04-11 09:03:31.830776+00:00         Ida              0.0   \n",
       "4   4  2019-04-11 11:49:32.845973+00:00         Ida              0.0   \n",
       "\n",
       "   assistant_enabled  agent_id        date             time  calls  \n",
       "0              False      8331  2019-04-04  11:33:51.713444    1.0  \n",
       "1               True      8331  2019-04-09  14:27:50.291550    1.0  \n",
       "2               True      8331  2019-04-09  17:39:22.662744    1.0  \n",
       "3               True      8331  2019-04-11  09:03:31.830776    1.0  \n",
       "4               True      8331  2019-04-11  11:49:32.845973    1.0  "
      ]
     },
     "execution_count": 11,
     "metadata": {},
     "output_type": "execute_result"
    }
   ],
   "source": [
    "df['calls'] = np.ones(len(df))\n",
    "df.head()"
   ]
  },
  {
   "cell_type": "markdown",
   "metadata": {},
   "source": [
    "One dataframe for each call center"
   ]
  },
  {
   "cell_type": "code",
   "execution_count": 12,
   "metadata": {},
   "outputs": [],
   "source": [
    "Autonoe_df = df[df.call_center=='Autonoe']\n",
    "Dia_df = df[df.call_center=='Dia']\n",
    "Ida_df = df[df.call_center=='Ida']\n",
    "Linus_df = df[df.call_center == 'Linus']\n",
    "Mathilde_df = df[df.call_center == 'Mathilde']"
   ]
  },
  {
   "cell_type": "markdown",
   "metadata": {},
   "source": [
    "Group by date"
   ]
  },
  {
   "cell_type": "code",
   "execution_count": 13,
   "metadata": {},
   "outputs": [],
   "source": [
    "Autonoe_grouped = Autonoe_df.groupby(['date']).agg({'successful_call':'sum','calls':'sum'})\n",
    "Dia_grouped = Dia_df.groupby(['date']).agg({'successful_call':'sum', 'calls':'sum'})\n",
    "Ida_grouped = Ida_df.groupby(['date']).agg({'successful_call':'sum', 'calls':'sum'})\n",
    "Linus_grouped = Linus_df.groupby(['date']).agg({'successful_call':'sum', 'calls':'sum'})\n",
    "Mathilde_grouped = Mathilde_df.groupby(['date']).agg({'successful_call':'sum', 'calls':'sum'})\n",
    "\n",
    "#Autonoe_grouped"
   ]
  },
  {
   "cell_type": "markdown",
   "metadata": {},
   "source": [
    "Add success rate column"
   ]
  },
  {
   "cell_type": "code",
   "execution_count": 14,
   "metadata": {},
   "outputs": [],
   "source": [
    "Autonoe_grouped['success_rate'] = Autonoe_grouped['successful_call']/Autonoe_grouped['calls']\n",
    "Dia_grouped['success_rate'] = Dia_grouped['successful_call']/Dia_grouped['calls']\n",
    "Ida_grouped['success_rate'] = Ida_grouped['successful_call']/Ida_grouped['calls']\n",
    "Linus_grouped['success_rate'] = Linus_grouped['successful_call']/Linus_grouped['calls']\n",
    "Mathilde_grouped['success_rate']= Mathilde_grouped['successful_call']/Mathilde_grouped['calls']\n",
    "\n",
    "#Autonoe_grouped"
   ]
  },
  {
   "cell_type": "markdown",
   "metadata": {},
   "source": [
    "Success rate graph"
   ]
  },
  {
   "cell_type": "code",
   "execution_count": 15,
   "metadata": {},
   "outputs": [
    {
     "data": {
      "image/png": "[encoded data removed]",
      "text/plain": [
       "<Figure size 1368x432 with 1 Axes>"
      ]
     },
     "metadata": {
      "needs_background": "light"
     },
     "output_type": "display_data"
    },
    {
     "data": {
      "text/plain": [
       "<Figure size 432x288 with 0 Axes>"
      ]
     },
     "metadata": {},
     "output_type": "display_data"
    }
   ],
   "source": [
    "plt.figure(figsize=(19,6))\n",
    "ax = plt.subplot()\n",
    "\n",
    "Autonoe_grouped['success_rate'].plot()\n",
    "Dia_grouped['success_rate'].plot()\n",
    "Ida_grouped['success_rate'].plot()\n",
    "Linus_grouped['success_rate'].plot()\n",
    "Mathilde_grouped['success_rate'].plot()\n",
    "\n",
    "plt.legend(['Autonoe','Dia','Ida', 'Linus', 'Mathilde'])\n",
    "plt.xlabel('Date')\n",
    "plt.ylabel('Success Rate')\n",
    "plt.title('Success rate of each call center')\n",
    "plt.show()\n",
    "\n",
    "plt.savefig('success_rate_graph.png')"
   ]
  },
  {
   "cell_type": "markdown",
   "metadata": {},
   "source": [
    "Is there any statistically significant difference between call center success rates?"
   ]
  },
  {
   "cell_type": "code",
   "execution_count": 16,
   "metadata": {},
   "outputs": [
    {
     "data": {
      "text/plain": [
       "F_onewayResult(statistic=8.369087970540622, pvalue=4.817056413727577e-06)"
      ]
     },
     "execution_count": 16,
     "metadata": {},
     "output_type": "execute_result"
    }
   ],
   "source": [
    "#ANOVA test\n",
    "\n",
    "anv = stats.f_oneway(Autonoe_grouped['success_rate'], \n",
    "                                Dia_grouped['success_rate'],Ida_grouped['success_rate'], \n",
    "                                Linus_grouped['success_rate'], Mathilde_grouped['success_rate'])\n",
    "anv\n",
    "\n",
    "\n",
    "#Ho: All pairs of samples are same\n",
    "#H1: At least one call center is significantly different\n",
    "\n",
    "#p=4.18x10^(-6) = 0.00000418 < 0.05\n",
    "\n",
    "#We reject H0, the success rate of at least one call center is significantly different."
   ]
  },
  {
   "cell_type": "markdown",
   "metadata": {},
   "source": [
    "Which call center is significantly different?"
   ]
  },
  {
   "cell_type": "code",
   "execution_count": 17,
   "metadata": {},
   "outputs": [
    {
     "data": {
      "text/plain": [
       "Ttest_indResult(statistic=-0.8975225634217522, pvalue=0.3737416591060645)"
      ]
     },
     "execution_count": 17,
     "metadata": {},
     "output_type": "execute_result"
    }
   ],
   "source": [
    "#We compare each call center to Mathilde (its success rate is similar to Autonoe, Ida and Linus)\n",
    "\n",
    "#t-test\n",
    "\n",
    "Autonoe_tt = stats.ttest_ind(Autonoe_grouped.success_rate, Mathilde_grouped.success_rate)\n",
    "Autonoe_tt"
   ]
  },
  {
   "cell_type": "code",
   "execution_count": 18,
   "metadata": {},
   "outputs": [
    {
     "data": {
      "text/plain": [
       "Ttest_indResult(statistic=3.3970050331815402, pvalue=0.001360123647217948)"
      ]
     },
     "execution_count": 18,
     "metadata": {},
     "output_type": "execute_result"
    }
   ],
   "source": [
    "Dia_tt= stats.ttest_ind(Dia_grouped.success_rate, Mathilde_grouped.success_rate)\n",
    "Dia_tt"
   ]
  },
  {
   "cell_type": "code",
   "execution_count": 19,
   "metadata": {},
   "outputs": [
    {
     "data": {
      "text/plain": [
       "Ttest_indResult(statistic=1.3201358142425281, pvalue=0.19206666786790672)"
      ]
     },
     "execution_count": 19,
     "metadata": {},
     "output_type": "execute_result"
    }
   ],
   "source": [
    "Ida_tt = stats.ttest_ind(Ida_grouped.success_rate, Mathilde_grouped.success_rate)\n",
    "Ida_tt"
   ]
  },
  {
   "cell_type": "code",
   "execution_count": 20,
   "metadata": {},
   "outputs": [
    {
     "data": {
      "text/plain": [
       "Ttest_indResult(statistic=-1.1183834994234263, pvalue=0.26874783141892516)"
      ]
     },
     "execution_count": 20,
     "metadata": {},
     "output_type": "execute_result"
    }
   ],
   "source": [
    "Linus_tt = stats.ttest_ind(Linus_grouped.success_rate, Mathilde_grouped.success_rate)\n",
    "Linus_tt"
   ]
  },
  {
   "cell_type": "code",
   "execution_count": 21,
   "metadata": {},
   "outputs": [],
   "source": [
    "#Only Dia is significantly different. p=0.0013 < 0.05"
   ]
  },
  {
   "cell_type": "markdown",
   "metadata": {},
   "source": [
    "Does the usage of i2x assistant help the call centers to be successful?"
   ]
  },
  {
   "cell_type": "code",
   "execution_count": 22,
   "metadata": {},
   "outputs": [],
   "source": [
    "#Fisher's test\n",
    "a = df[df['successful_call']==1.]\n",
    "a = a[a['assistant_enabled']==True]\n",
    "a = len(a)\n",
    "\n",
    "b = df[df['successful_call']==0.]\n",
    "b = b[b['assistant_enabled']==True]\n",
    "b = len(b)\n",
    "\n",
    "c = df[df['successful_call']==1.]\n",
    "c = c[c['assistant_enabled']==False]\n",
    "c = len(c)\n",
    "\n",
    "d = df[df['successful_call']==0.]\n",
    "d = d[d['assistant_enabled']==False]\n",
    "d = len(d)"
   ]
  },
  {
   "cell_type": "code",
   "execution_count": 23,
   "metadata": {},
   "outputs": [
    {
     "data": {
      "text/plain": [
       "array([[ 2184, 30485],\n",
       "       [ 2267, 32980]])"
      ]
     },
     "execution_count": 23,
     "metadata": {},
     "output_type": "execute_result"
    }
   ],
   "source": [
    "contingency_table = np.array([[a,b],\n",
    "                             [c,d]])\n",
    "contingency_table"
   ]
  },
  {
   "cell_type": "code",
   "execution_count": 24,
   "metadata": {},
   "outputs": [
    {
     "data": {
      "text/html": [
       "<div>\n",
       "<style scoped>\n",
       "    .dataframe tbody tr th:only-of-type {\n",
       "        vertical-align: middle;\n",
       "    }\n",
       "\n",
       "    .dataframe tbody tr th {\n",
       "        vertical-align: top;\n",
       "    }\n",
       "\n",
       "    .dataframe thead th {\n",
       "        text-align: right;\n",
       "    }\n",
       "</style>\n",
       "<table border=\"1\" class=\"dataframe\">\n",
       "  <thead>\n",
       "    <tr style=\"text-align: right;\">\n",
       "      <th></th>\n",
       "      <th>Assistant enabled</th>\n",
       "      <th>Assistant not enabled</th>\n",
       "    </tr>\n",
       "  </thead>\n",
       "  <tbody>\n",
       "    <tr>\n",
       "      <th>Successful call</th>\n",
       "      <td>2184</td>\n",
       "      <td>30485</td>\n",
       "    </tr>\n",
       "    <tr>\n",
       "      <th>Not successful call</th>\n",
       "      <td>2267</td>\n",
       "      <td>32980</td>\n",
       "    </tr>\n",
       "  </tbody>\n",
       "</table>\n",
       "</div>"
      ],
      "text/plain": [
       "                     Assistant enabled  Assistant not enabled\n",
       "Successful call                   2184                  30485\n",
       "Not successful call               2267                  32980"
      ]
     },
     "execution_count": 24,
     "metadata": {},
     "output_type": "execute_result"
    }
   ],
   "source": [
    "contingency_table_1 = pd.DataFrame(contingency_table, columns=['Assistant enabled', 'Assistant not enabled'])\n",
    "contingency_table_1.index = ['Successful call', 'Not successful call'] \n",
    "\n",
    "contingency_table_1"
   ]
  },
  {
   "cell_type": "code",
   "execution_count": 25,
   "metadata": {},
   "outputs": [
    {
     "data": {
      "text/plain": [
       "0.1871867864741057"
      ]
     },
     "execution_count": 25,
     "metadata": {},
     "output_type": "execute_result"
    }
   ],
   "source": [
    "oddsratio, p_value = stats.fisher_exact(contingency_table_1)\n",
    "p_value"
   ]
  },
  {
   "cell_type": "code",
   "execution_count": 26,
   "metadata": {},
   "outputs": [],
   "source": [
    "#H0: Assisted calls and success are statistically independent.\n",
    "#H1: Assisted calls and success are not statistically independent.\n",
    "\n",
    "#We have no evidence to reject the null hypothesis."
   ]
  },
  {
   "cell_type": "markdown",
   "metadata": {},
   "source": [
    "Does the usage of i2x assistant help individual agents to be successful?"
   ]
  },
  {
   "cell_type": "code",
   "execution_count": 27,
   "metadata": {},
   "outputs": [
    {
     "data": {
      "text/html": [
       "<div>\n",
       "<style scoped>\n",
       "    .dataframe tbody tr th:only-of-type {\n",
       "        vertical-align: middle;\n",
       "    }\n",
       "\n",
       "    .dataframe tbody tr th {\n",
       "        vertical-align: top;\n",
       "    }\n",
       "\n",
       "    .dataframe thead th {\n",
       "        text-align: right;\n",
       "    }\n",
       "</style>\n",
       "<table border=\"1\" class=\"dataframe\">\n",
       "  <thead>\n",
       "    <tr style=\"text-align: right;\">\n",
       "      <th></th>\n",
       "      <th>successful_call</th>\n",
       "      <th>assistant_enabled</th>\n",
       "      <th>calls</th>\n",
       "      <th>agent_success_rate</th>\n",
       "    </tr>\n",
       "    <tr>\n",
       "      <th>agent_id</th>\n",
       "      <th></th>\n",
       "      <th></th>\n",
       "      <th></th>\n",
       "      <th></th>\n",
       "    </tr>\n",
       "  </thead>\n",
       "  <tbody>\n",
       "    <tr>\n",
       "      <th>7673</th>\n",
       "      <td>28.0</td>\n",
       "      <td>79</td>\n",
       "      <td>82.0</td>\n",
       "      <td>0.341463</td>\n",
       "    </tr>\n",
       "    <tr>\n",
       "      <th>14834</th>\n",
       "      <td>23.0</td>\n",
       "      <td>19</td>\n",
       "      <td>70.0</td>\n",
       "      <td>0.328571</td>\n",
       "    </tr>\n",
       "    <tr>\n",
       "      <th>17487</th>\n",
       "      <td>3.0</td>\n",
       "      <td>11</td>\n",
       "      <td>11.0</td>\n",
       "      <td>0.272727</td>\n",
       "    </tr>\n",
       "    <tr>\n",
       "      <th>5440</th>\n",
       "      <td>1.0</td>\n",
       "      <td>0</td>\n",
       "      <td>4.0</td>\n",
       "      <td>0.250000</td>\n",
       "    </tr>\n",
       "    <tr>\n",
       "      <th>9402</th>\n",
       "      <td>12.0</td>\n",
       "      <td>1</td>\n",
       "      <td>51.0</td>\n",
       "      <td>0.235294</td>\n",
       "    </tr>\n",
       "    <tr>\n",
       "      <th>...</th>\n",
       "      <td>...</td>\n",
       "      <td>...</td>\n",
       "      <td>...</td>\n",
       "      <td>...</td>\n",
       "    </tr>\n",
       "    <tr>\n",
       "      <th>14540</th>\n",
       "      <td>0.0</td>\n",
       "      <td>3</td>\n",
       "      <td>19.0</td>\n",
       "      <td>0.000000</td>\n",
       "    </tr>\n",
       "    <tr>\n",
       "      <th>14442</th>\n",
       "      <td>0.0</td>\n",
       "      <td>36</td>\n",
       "      <td>36.0</td>\n",
       "      <td>0.000000</td>\n",
       "    </tr>\n",
       "    <tr>\n",
       "      <th>14309</th>\n",
       "      <td>0.0</td>\n",
       "      <td>112</td>\n",
       "      <td>112.0</td>\n",
       "      <td>0.000000</td>\n",
       "    </tr>\n",
       "    <tr>\n",
       "      <th>13910</th>\n",
       "      <td>0.0</td>\n",
       "      <td>3</td>\n",
       "      <td>3.0</td>\n",
       "      <td>0.000000</td>\n",
       "    </tr>\n",
       "    <tr>\n",
       "      <th>17753</th>\n",
       "      <td>0.0</td>\n",
       "      <td>10</td>\n",
       "      <td>10.0</td>\n",
       "      <td>0.000000</td>\n",
       "    </tr>\n",
       "  </tbody>\n",
       "</table>\n",
       "<p>503 rows × 4 columns</p>\n",
       "</div>"
      ],
      "text/plain": [
       "          successful_call  assistant_enabled  calls  agent_success_rate\n",
       "agent_id                                                               \n",
       "7673                 28.0                 79   82.0            0.341463\n",
       "14834                23.0                 19   70.0            0.328571\n",
       "17487                 3.0                 11   11.0            0.272727\n",
       "5440                  1.0                  0    4.0            0.250000\n",
       "9402                 12.0                  1   51.0            0.235294\n",
       "...                   ...                ...    ...                 ...\n",
       "14540                 0.0                  3   19.0            0.000000\n",
       "14442                 0.0                 36   36.0            0.000000\n",
       "14309                 0.0                112  112.0            0.000000\n",
       "13910                 0.0                  3    3.0            0.000000\n",
       "17753                 0.0                 10   10.0            0.000000\n",
       "\n",
       "[503 rows x 4 columns]"
      ]
     },
     "execution_count": 27,
     "metadata": {},
     "output_type": "execute_result"
    }
   ],
   "source": [
    "agents_grouped = df.groupby('agent_id').sum()\n",
    "#agents_grouped\n",
    "\n",
    "agents_grouped['agent_success_rate'] = agents_grouped['successful_call']/agents_grouped['calls']\n",
    "agents_grouped.sort_values(by = ['agent_success_rate'], ascending=False, inplace=True)\n",
    "agents_grouped\n",
    "agents_grouped.drop(columns=['id'])"
   ]
  },
  {
   "cell_type": "code",
   "execution_count": 28,
   "metadata": {},
   "outputs": [
    {
     "data": {
      "text/plain": [
       "0.5028053370166118"
      ]
     },
     "execution_count": 28,
     "metadata": {},
     "output_type": "execute_result"
    }
   ],
   "source": [
    "#Correlation test\n",
    "agents_grouped['successful_call'].corr(agents_grouped['assistant_enabled'])\n",
    "\n",
    "#There is a moderate positive relationship between i2x assistant and successful calls."
   ]
  }
 ],
 "metadata": {
  "kernelspec": {
   "display_name": "Python 3",
   "language": "python",
   "name": "python3"
  },
  "language_info": {
   "codemirror_mode": {
    "name": "ipython",
    "version": 3
   },
   "file_extension": ".py",
   "mimetype": "text/x-python",
   "name": "python",
   "nbconvert_exporter": "python",
   "pygments_lexer": "ipython3",
   "version": "3.8.3"
  }
 },
 "nbformat": 4,
 "nbformat_minor": 4
}
